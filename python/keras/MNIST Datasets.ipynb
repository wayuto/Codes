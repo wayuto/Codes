{
 "cells": [
  {
   "cell_type": "code",
   "execution_count": 117,
   "id": "5c435bdf-f9f1-44bc-8775-dcb0b25a1381",
   "metadata": {},
   "outputs": [],
   "source": [
    "import keras\n",
    "from keras.layers import *\n",
    "from keras.optimizers import *\n",
    "from keras.losses import *\n",
    "from keras.datasets import mnist\n",
    "from keras.utils import to_categorical\n",
    "from keras.regularizers import l2\n",
    "import matplotlib.pyplot as plt\n",
    "import numpy as np\n",
    "from time import time\n",
    "\n",
    "%matplotlib inline"
   ]
  },
  {
   "cell_type": "code",
   "execution_count": 112,
   "id": "7b25373e-648a-493f-8ab9-c4145f100f74",
   "metadata": {},
   "outputs": [],
   "source": [
    "(x_train, y_train), (x_test, y_test) = mnist.load_data()\n",
    "\n",
    "x_train = x_train.reshape(x_train.shape[0], -1) / 255.0\n",
    "x_test = x_test.reshape(x_test.shape[0], -1) / 255.0\n",
    "y_train = to_categorical(y_train, num_classes=10)\n",
    "y_test = to_categorical(y_test, num_classes=10)"
   ]
  },
  {
   "cell_type": "code",
   "execution_count": 118,
   "id": "b5ec2a5c-ebe7-450c-b34c-199f2ac61768",
   "metadata": {},
   "outputs": [
    {
     "name": "stderr",
     "output_type": "stream",
     "text": [
      "/usr/lib/python3.12/site-packages/keras/src/layers/core/dense.py:87: UserWarning: Do not pass an `input_shape`/`input_dim` argument to a layer. When using Sequential models, prefer using an `Input(shape)` object as the first layer in the model instead.\n",
      "  super().__init__(activity_regularizer=activity_regularizer, **kwargs)\n"
     ]
    },
    {
     "name": "stdout",
     "output_type": "stream",
     "text": [
      "29.886082649230957s.\n",
      "\u001b[1m313/313\u001b[0m \u001b[32m━━━━━━━━━━━━━━━━━━━━\u001b[0m\u001b[37m\u001b[0m \u001b[1m0s\u001b[0m 1ms/step - accuracy: 0.9682 - loss: 0.1895\n",
      "test:\n",
      "loss: 0.1748996526002884\n",
      "accuracy: 0.9733999967575073\n",
      "\u001b[1m1875/1875\u001b[0m \u001b[32m━━━━━━━━━━━━━━━━━━━━\u001b[0m\u001b[37m\u001b[0m \u001b[1m2s\u001b[0m 1ms/step - accuracy: 0.9839 - loss: 0.1508\n",
      "train:\n",
      "loss: 0.15180999040603638\n",
      "accuracy: 0.9832000136375427\n"
     ]
    }
   ],
   "source": [
    "# model = keras.Sequential([(units=200, input_dim=784, bias_initializer='one', activation=('tanh'))]) ---normal\n",
    "\n",
    "# model = keras.Sequential([\n",
    "#     Dense(units=200, input_dim=784, bias_initializer='one', activation=('tanh')), \n",
    "#     Dropout(0.4), \n",
    "#     Dense(units=100, bias_initializer='one', activation=('tanh')), \n",
    "#     Dropout(0.4),\n",
    "#     Dense(units=10, bias_initializer='one', activation=('softmax'))\n",
    "# ]) # ---dropout\n",
    "\n",
    "model = keras.Sequential([\n",
    "    Dense(units=200, input_dim=784, bias_initializer='one', activation=('tanh'), kernel_regularizer=l2(0.0003)), \n",
    "    Dense(units=100, bias_initializer='one', activation=('tanh'), kernel_regularizer=l2(0.0003)), \n",
    "    Dense(units=10, bias_initializer='one', activation=('softmax'), kernel_regularizer=l2(0.0003))\n",
    "]) # ---regualrizers\n",
    "\n",
    "sgd = SGD(learning_rate=0.3)\n",
    "model.compile(\n",
    "    optimizer=sgd, \n",
    "    # loss=mean_squared_error, ---均方误差\n",
    "    loss=categorical_crossentropy, # ---交叉熵\n",
    "    metrics=['accuracy']\n",
    ")\n",
    "st = time()\n",
    "model.fit(x_train, y_train, epochs=10, verbose=0, batch_size=32)\n",
    "\n",
    "print(str(time()-st)+'s.')\n",
    "\n",
    "loss, accuracy = model.evaluate(x_test, y_test)\n",
    "print('test:\\nloss: ' + str(loss) + '\\n' + 'accuracy: ' + str(accuracy))\n",
    "\n",
    "loss, accuracy = model.evaluate(x_train, y_train)\n",
    "print('train:\\nloss: ' + str(loss) + '\\n' + 'accuracy: ' + str(accuracy))"
   ]
  },
  {
   "cell_type": "code",
   "execution_count": null,
   "id": "31000220-5dcf-4bfc-b633-8735d8c3471a",
   "metadata": {},
   "outputs": [],
   "source": [
    "    "
   ]
  }
 ],
 "metadata": {
  "kernelspec": {
   "display_name": "Python 3 (ipykernel)",
   "language": "python",
   "name": "python3"
  },
  "language_info": {
   "codemirror_mode": {
    "name": "ipython",
    "version": 3
   },
   "file_extension": ".py",
   "mimetype": "text/x-python",
   "name": "python",
   "nbconvert_exporter": "python",
   "pygments_lexer": "ipython3",
   "version": "3.12.3"
  }
 },
 "nbformat": 4,
 "nbformat_minor": 5
}
