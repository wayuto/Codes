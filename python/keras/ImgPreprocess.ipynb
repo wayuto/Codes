{
 "cells": [
  {
   "cell_type": "code",
   "execution_count": 3,
   "id": "5c480f2e-bbb2-4214-9310-40e4a3176b3f",
   "metadata": {},
   "outputs": [],
   "source": [
    "train_datagen = ImageDataGenerator(\n",
    "    rotation_range=40, \n",
    "    width_shift_range=0.2, \n",
    "    height_shift_range=0.2, \n",
    "    rescale=1./255, \n",
    "    shear_range=0.2, \n",
    "    zoom_range=0.2, \n",
    "    horizontal_flip=True, \n",
    "    fill_mode='nearest'\n",
    ")\n",
    "test_datagen = ImageDataGenerator(rescale=1./255)"
   ]
  },
  {
   "cell_type": "code",
   "execution_count": 4,
   "id": "7c2561bb-3e2b-41cd-bc3c-15664ec2c832",
   "metadata": {},
   "outputs": [
    {
     "name": "stderr",
     "output_type": "stream",
     "text": [
      "/usr/lib/python3.12/site-packages/keras/src/layers/convolutional/base_conv.py:107: UserWarning: Do not pass an `input_shape`/`input_dim` argument to a layer. When using Sequential models, prefer using an `Input(shape)` object as the first layer in the model instead.\n",
      "  super().__init__(activity_regularizer=activity_regularizer, **kwargs)\n",
      "2024-06-01 19:37:46.610530: I external/local_xla/xla/stream_executor/cuda/cuda_executor.cc:998] successful NUMA node read from SysFS had negative value (-1), but there must be at least one NUMA node, so returning NUMA node zero. See more at https://github.com/torvalds/linux/blob/v6.0/Documentation/ABI/testing/sysfs-bus-pci#L344-L355\n",
      "2024-06-01 19:37:46.728923: W tensorflow/core/common_runtime/gpu/gpu_device.cc:2251] Cannot dlopen some GPU libraries. Please make sure the missing libraries mentioned above are installed properly if you would like to use GPU. Follow the guide at https://www.tensorflow.org/install/gpu for how to download and setup the required libraries for your platform.\n",
      "Skipping registering GPU devices...\n"
     ]
    }
   ],
   "source": [
    "model = keras.Sequential([\n",
    "    Convolution2D(input_shape=(150, 150, 3), filters=32, kernel_size=3, strides=1, padding='same', activation='relu'), \n",
    "    Convolution2D(filters=32, kernel_size=3, strides=1, padding='same', activation='relu'), \n",
    "    MaxPool2D(pool_size=2, strides=2, padding='valid'), \n",
    "\n",
    "    Convolution2D(filters=64, kernel_size=3, strides=1, padding='same', activation='relu'), \n",
    "    Convolution2D(filters=64, kernel_size=3, strides=1, padding='same', activation='relu'), \n",
    "    MaxPool2D(pool_size=2, strides=2, padding='valid'), \n",
    "\n",
    "    Flatten(), \n",
    "    Dense(64, activation='relu'), \n",
    "    Dropout(0.5), \n",
    "    Dense(2, activation='softmax')\n",
    "])\n",
    "\n",
    "adam = Adam(learning_rate=1e-4)\n",
    "\n",
    "model.compile(\n",
    "    optimizer=adam, \n",
    "    loss=categorical_crossentropy, \n",
    "    metrics=['accuracy']\n",
    ")\n"
   ]
  },
  {
   "cell_type": "code",
   "execution_count": 5,
   "id": "961ef77b-f0c1-437a-9134-29f86203d65a",
   "metadata": {},
   "outputs": [
    {
     "name": "stdout",
     "output_type": "stream",
     "text": [
      "25000\n",
      "Found 25000 images belonging to 2 classes.\n",
      "Found 12500 images belonging to 1 classes.\n"
     ]
    }
   ],
   "source": [
    "batch_size=32\n",
    "total = sum([len(files) for root, dirs, files in os.walk('datasets/train/')])\n",
    "print(total)\n",
    "train_generator = train_datagen.flow_from_directory(\n",
    "    'datasets/train/',\n",
    "    target_size=(150, 150), \n",
    "    batch_size=batch_size\n",
    ")\n",
    "\n",
    "\n",
    "test_generator = test_datagen.flow_from_directory(\n",
    "    'datasets/test',\n",
    "    target_size=(150, 150), \n",
    "    batch_size=batch_size\n",
    ")"
   ]
  },
  {
   "cell_type": "code",
   "execution_count": 1,
   "id": "e31061ea-e77d-4bee-8b2d-0df365e10649",
   "metadata": {},
   "outputs": [
    {
     "ename": "NameError",
     "evalue": "name 'model' is not defined",
     "output_type": "error",
     "traceback": [
      "\u001B[0;31m---------------------------------------------------------------------------\u001B[0m",
      "\u001B[0;31mNameError\u001B[0m                                 Traceback (most recent call last)",
      "Cell \u001B[0;32mIn[1], line 1\u001B[0m\n\u001B[0;32m----> 1\u001B[0m \u001B[43mmodel\u001B[49m\u001B[38;5;241m.\u001B[39mfit(\n\u001B[1;32m      2\u001B[0m     train_generator, \n\u001B[1;32m      3\u001B[0m     steps_per_epoch\u001B[38;5;241m=\u001B[39m\u001B[38;5;28mint\u001B[39m(total \u001B[38;5;241m/\u001B[39m batch_size), \n\u001B[1;32m      4\u001B[0m     epochs\u001B[38;5;241m=\u001B[39m\u001B[38;5;241m1\u001B[39m, \n\u001B[1;32m      5\u001B[0m     validation_data\u001B[38;5;241m=\u001B[39mtest_generator, \n\u001B[1;32m      6\u001B[0m     validation_steps\u001B[38;5;241m=\u001B[39mtotal \u001B[38;5;241m/\u001B[39m batch_size,\n\u001B[1;32m      7\u001B[0m )\n\u001B[1;32m      8\u001B[0m model\u001B[38;5;241m.\u001B[39msave(\u001B[38;5;124m'\u001B[39m\u001B[38;5;124mmodel.h5\u001B[39m\u001B[38;5;124m'\u001B[39m)\n",
      "\u001B[0;31mNameError\u001B[0m: name 'model' is not defined"
     ]
    }
   ],
   "source": [
    "model.fit(\n",
    "    train_generator, \n",
    "    steps_per_epoch=int(total / batch_size), \n",
    "    epochs=1, \n",
    "    validation_data=test_generator, \n",
    "    validation_steps=total / batch_size,\n",
    "    batch_size=32\n",
    ")\n",
    "model.save('model.h5')"
   ]
  },
  {
   "cell_type": "code",
   "execution_count": null,
   "id": "801436f5-aa0d-4f55-ae5b-5efebcc6f36a",
   "metadata": {},
   "outputs": [],
   "source": []
  }
 ],
 "metadata": {
  "kernelspec": {
   "display_name": "Python 3 (ipykernel)",
   "language": "python",
   "name": "python3"
  },
  "language_info": {
   "codemirror_mode": {
    "name": "ipython",
    "version": 3
   },
   "file_extension": ".py",
   "mimetype": "text/x-python",
   "name": "python",
   "nbconvert_exporter": "python",
   "pygments_lexer": "ipython3",
   "version": "3.12.3"
  }
 },
 "nbformat": 4,
 "nbformat_minor": 5
}
