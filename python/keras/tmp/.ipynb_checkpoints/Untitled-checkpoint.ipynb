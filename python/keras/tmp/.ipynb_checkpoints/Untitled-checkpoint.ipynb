{
 "cells": [
  {
   "cell_type": "code",
   "execution_count": 6,
   "id": "be71e86d-5fc1-4b2b-bf5f-a7e92818344f",
   "metadata": {},
   "outputs": [],
   "source": [
    "import matplotlib.pyplot as plt\n",
    "from numpy import *\n",
    "import numpy as np\n",
    "\n",
    "\n",
    "%matplotlib inline"
   ]
  },
  {
   "cell_type": "code",
   "execution_count": 20,
   "id": "f404fc62-0b78-4288-9dac-56ba92656319",
   "metadata": {},
   "outputs": [],
   "source": [
    "x = linspace(-10, 10, 10)\n",
    "y = x"
   ]
  },
  {
   "cell_type": "code",
   "execution_count": 24,
   "id": "aebd7ab5-c197-407d-baf9-e1dfe9441145",
   "metadata": {},
   "outputs": [
    {
     "data": {
      "text/plain": [
       "<Figure size 1000x1000 with 0 Axes>"
      ]
     },
     "metadata": {},
     "output_type": "display_data"
    }
   ],
   "source": [
    "fig = plt.figure(figsize=(10, 10))"
   ]
  },
  {
   "cell_type": "code",
   "execution_count": 25,
   "id": "96f7bec7-a642-4fc2-9f99-07e74d22e7f0",
   "metadata": {},
   "outputs": [
    {
     "ename": "NameError",
     "evalue": "name 'np' is not defined",
     "output_type": "error",
     "traceback": [
      "\u001b[0;31m---------------------------------------------------------------------------\u001b[0m",
      "\u001b[0;31mNameError\u001b[0m                                 Traceback (most recent call last)",
      "Cell \u001b[0;32mIn[25], line 2\u001b[0m\n\u001b[1;32m      1\u001b[0m \u001b[38;5;66;03m# 设置随机种子\u001b[39;00m\n\u001b[0;32m----> 2\u001b[0m \u001b[43mnp\u001b[49m\u001b[38;5;241m.\u001b[39mrandom\u001b[38;5;241m.\u001b[39mseed(\u001b[38;5;241m325\u001b[39m)\n\u001b[1;32m      4\u001b[0m \u001b[38;5;66;03m# 随机生成o数据\u001b[39;00m\n\u001b[1;32m      5\u001b[0m o_data_x \u001b[38;5;241m=\u001b[39m np\u001b[38;5;241m.\u001b[39mrandom\u001b[38;5;241m.\u001b[39mrandint(\u001b[38;5;241m40\u001b[39m, \u001b[38;5;241m80\u001b[39m, \u001b[38;5;241m5\u001b[39m)\n",
      "\u001b[0;31mNameError\u001b[0m: name 'np' is not defined"
     ]
    }
   ],
   "source": [
    "# 设置随机种子\n",
    "np.random.seed(325)\n",
    " \n",
    "# 随机生成o数据\n",
    "o_data_x = np.random.randint(40, 80, 5)\n",
    "o_data_y = np.random.randint(20, 80, 5)\n",
    "o_label = np.array([0,0,0,0,0])\n",
    " \n",
    "# 随机生成x数据\n",
    "x_data_x = np.random.randint(10, 50, 5)\n",
    "x_data_y = np.random.randint(60, 90, 5)\n",
    "x_label = np.array([1,1,1,1,1])\n",
    " \n",
    "# 随机生成初始的直线\n",
    "w1_w2 = np.random.random(2)\n",
    "t = np.linspace(-100,100, 18)"
   ]
  },
  {
   "cell_type": "code",
   "execution_count": null,
   "id": "99147187-d8a2-4d80-8b1d-43666ebf8d31",
   "metadata": {},
   "outputs": [],
   "source": []
  }
 ],
 "metadata": {
  "kernelspec": {
   "display_name": "Python 3 (ipykernel)",
   "language": "python",
   "name": "python3"
  },
  "language_info": {
   "codemirror_mode": {
    "name": "ipython",
    "version": 3
   },
   "file_extension": ".py",
   "mimetype": "text/x-python",
   "name": "python",
   "nbconvert_exporter": "python",
   "pygments_lexer": "ipython3",
   "version": "3.12.4"
  }
 },
 "nbformat": 4,
 "nbformat_minor": 5
}
