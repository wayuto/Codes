{
 "cells": [
  {
   "cell_type": "code",
   "execution_count": 2,
   "id": "f4957270",
   "metadata": {
    "ExecuteTime": {
     "end_time": "2025-06-23T05:41:02.857827Z",
     "start_time": "2025-06-23T05:41:02.852442Z"
    }
   },
   "outputs": [],
   "source": [
    "from requests import *\n",
    "from bs4 import BeautifulSoup\n",
    "from typing import Callable\n",
    "import time\n",
    "import os\n",
    "\n",
    "import asyncio\n",
    "import aiohttp\n",
    "import aiofiles"
   ]
  },
  {
   "cell_type": "code",
   "execution_count": 3,
   "id": "5e918296",
   "metadata": {
    "ExecuteTime": {
     "end_time": "2025-06-23T05:41:04.048974Z",
     "start_time": "2025-06-23T05:41:04.043973Z"
    }
   },
   "outputs": [],
   "source": [
    "import nest_asyncio\n",
    "\n",
    "nest_asyncio.apply()"
   ]
  },
  {
   "cell_type": "code",
   "execution_count": 4,
   "id": "8174b460",
   "metadata": {
    "ExecuteTime": {
     "end_time": "2025-06-23T05:41:07.800069Z",
     "start_time": "2025-06-23T05:41:07.794738Z"
    }
   },
   "outputs": [],
   "source": [
    "START_PAGE = 1\n",
    "MAX_CONCURRENT = 10\n",
    "TIMEOUT = 3\n",
    "\n",
    "domain: str = \"www.chinanews.com\"\n",
    "headers: dict = {\n",
    "    \"User-Agent\":\n",
    "        \"Mozilla/5.0 (Windows NT 10.0; Win64; x64) AppleWebKit/537.36 (KHTML, like Gecko) Chrome/91.0.4472.124 Safari/537.36\"\n",
    "}"
   ]
  },
  {
   "cell_type": "code",
   "execution_count": null,
   "id": "6eb76e1c",
   "metadata": {
    "ExecuteTime": {
     "end_time": "2025-06-23T05:41:08.294083Z",
     "start_time": "2025-06-23T05:41:08.283966Z"
    }
   },
   "outputs": [],
   "source": [
    "async def parse_and_save(text, page, domain) -> bool:\n",
    "    soup: BeautifulSoup = BeautifulSoup(text, \"html.parser\")\n",
    "\n",
    "    u_titles = soup.find_all(\"div\", \"dd_bt\")\n",
    "    u_tags = soup.find_all(\"div\", \"dd_lm\")\n",
    "    u_times = soup.find_all(\"div\", \"dd_time\")\n",
    "    u_urls = soup.find_all(\"div\", \"dd_bt\")\n",
    "\n",
    "    urls = [f\"https://{domain}{url.select(\"a\")[0].get(\"href\")}\" for url in u_urls]\n",
    "    titles = [title.get_text() for title in u_titles]\n",
    "    tags = [tag.get_text() for tag in u_tags]\n",
    "    times = [time.get_text() for time in u_times]\n",
    "\n",
    "    try:\n",
    "        os.rmdir(\"ChinaNews\")\n",
    "        os.makedirs(\"ChinaNews\", exist_ok=True)\n",
    "        async with aiofiles.open(f\"ChinaNews/Page{page}.md\", \"w\") as f:\n",
    "            for i in range(len(titles)):\n",
    "                await f.write(f\"\"\"\n",
    "***<font size=\"7\">标题: [{titles[i]}]({urls[i]})</font>***  \n",
    "\n",
    "**<font size=\"5\">标签: {tags[i]}</font>**  \n",
    "\n",
    "*<font size=\"3\">时间: {times[i]}</font>*  \n",
    "\n",
    "---\n",
    "                \"\"\")\n",
    "        print(f\"Page {page} has been Saved.\")\n",
    "        return True\n",
    "\n",
    "    except Exception as e:\n",
    "        print(f\"Page {page}: Parsing error - {str(e)}\")\n",
    "        return False"
   ]
  },
  {
   "cell_type": "code",
   "execution_count": 6,
   "id": "f120b57f",
   "metadata": {
    "ExecuteTime": {
     "end_time": "2025-06-23T05:41:12.551314Z",
     "start_time": "2025-06-23T05:41:12.538346Z"
    }
   },
   "outputs": [],
   "source": [
    "async def scrape_page(session, page, domain, headers) -> bool:\n",
    "    request_url: str = f\"https://{domain}/scroll-news/news{page}.html\"\n",
    "    try:\n",
    "        async with session.get(request_url, headers=headers) as res:\n",
    "            if res.status != 200:\n",
    "                print(f\"Page {page}: Status {res.status} - Stopping\")\n",
    "                return False\n",
    "\n",
    "            print(f\"Page {page}: Scraping (Status {res.status})\")\n",
    "            content = await res.text()\n",
    "            return await parse_and_save(content, page, domain)\n",
    "\n",
    "    except Exception as e:\n",
    "        # print(f\"Page {page}: Error - {str(e)}\")\n",
    "        return False"
   ]
  },
  {
   "cell_type": "code",
   "execution_count": 7,
   "id": "1454dfc3",
   "metadata": {
    "ExecuteTime": {
     "end_time": "2025-06-23T05:41:13.745846Z",
     "start_time": "2025-06-23T05:41:12.708569Z"
    }
   },
   "outputs": [],
   "source": [
    "async def main(domain, headers=\"\", start_page=1, max_concurrent=10, time_out=10):\n",
    "    connector = aiohttp.TCPConnector(limit=max_concurrent)\n",
    "    timeout = aiohttp.ClientTimeout(total=time_out)\n",
    "\n",
    "    async with aiohttp.ClientSession(\n",
    "            connector=connector,\n",
    "            timeout=timeout,\n",
    "            headers=headers\n",
    "    ) as session:\n",
    "        tasks = []\n",
    "        page = start_page\n",
    "        active_tasks = 0\n",
    "        last_valid_page = start_page - 1\n",
    "        should_continue = True\n",
    "\n",
    "        while should_continue:\n",
    "            while active_tasks < max_concurrent and should_continue:\n",
    "                task = asyncio.create_task(scrape_page(session, page, domain, headers))\n",
    "                tasks.append(task)\n",
    "                page += 1\n",
    "                active_tasks += 1\n",
    "\n",
    "            if not tasks:\n",
    "                break\n",
    "\n",
    "            done, pending = await asyncio.wait(\n",
    "                tasks,\n",
    "                return_when=asyncio.FIRST_COMPLETED\n",
    "            )\n",
    "\n",
    "            for task in done:\n",
    "                try:\n",
    "                    success = await task\n",
    "                    active_tasks -= 1\n",
    "\n",
    "                    if success:\n",
    "                        last_valid_page = max(last_valid_page, page - active_tasks - 1)\n",
    "                    else:\n",
    "                        should_continue = False\n",
    "                        print(f\"All pages have been scraped.\")\n",
    "                        break\n",
    "\n",
    "                except Exception as e:\n",
    "                    print(f\"Task error: {str(e)}\")\n",
    "                    active_tasks -= 1\n",
    "                    should_continue = False\n",
    "                    break\n",
    "\n",
    "            tasks = list(pending)\n",
    "\n",
    "            if not tasks and not should_continue:\n",
    "                break\n",
    "\n",
    "        print(f\"Last valid page: {last_valid_page}\")"
   ]
  },
  {
   "cell_type": "code",
   "execution_count": 8,
   "id": "33cbb3d2",
   "metadata": {
    "ExecuteTime": {
     "end_time": "2025-06-23T05:41:19.026843Z",
     "start_time": "2025-06-23T05:41:13.911890Z"
    }
   },
   "outputs": [
    {
     "name": "stdout",
     "output_type": "stream",
     "text": [
      "Starting asynchronous scraping...\n",
      "Page 9: Scraping (Status 200)\n",
      "Page 5: Scraping (Status 200)\n",
      "Page 2: Scraping (Status 200)\n",
      "Page 3: Scraping (Status 200)\n",
      "Page 7: Scraping (Status 200)\n",
      "Page 10: Scraping (Status 200)\n",
      "Page 8: Scraping (Status 200)\n",
      "Page 6: Scraping (Status 200)\n",
      "Page 1: Scraping (Status 200)\n",
      "Page 4: Scraping (Status 200)\n",
      "Page 10 has been Saved.\n",
      "Page 5 has been Saved.\n",
      "Page 8 has been Saved.\n",
      "Page 9 has been Saved.\n",
      "Page 3 has been Saved.\n",
      "Page 2 has been Saved.\n",
      "Page 7 has been Saved.\n",
      "Page 4 has been Saved.\n",
      "Page 6 has been Saved.\n",
      "Page 1 has been Saved.\n",
      "All pages have been scraped.\n",
      "Last valid page: 10\n",
      "Scraping completed in 5.11 secs.\n"
     ]
    }
   ],
   "source": [
    "print(\"Starting asynchronous scraping...\")\n",
    "start_time: float = time.time()\n",
    "\n",
    "loop = asyncio.get_event_loop()\n",
    "loop.run_until_complete(main(\n",
    "    domain=domain,\n",
    "    headers=headers,\n",
    "    start_page=START_PAGE,\n",
    "    max_concurrent=MAX_CONCURRENT,\n",
    "    time_out=TIMEOUT\n",
    "))\n",
    "\n",
    "duration: float = time.time() - start_time\n",
    "print(f\"Scraping completed in {duration:.2f} secs.\")"
   ]
  },
  {
   "cell_type": "code",
   "execution_count": null,
   "id": "5735e9f8",
   "metadata": {},
   "outputs": [],
   "source": []
  }
 ],
 "metadata": {
  "kernelspec": {
   "display_name": "Python 3",
   "language": "python",
   "name": "python3"
  },
  "language_info": {
   "codemirror_mode": {
    "name": "ipython",
    "version": 3
   },
   "file_extension": ".py",
   "mimetype": "text/x-python",
   "name": "python",
   "nbconvert_exporter": "python",
   "pygments_lexer": "ipython3",
   "version": "3.13.3"
  }
 },
 "nbformat": 4,
 "nbformat_minor": 5
}
